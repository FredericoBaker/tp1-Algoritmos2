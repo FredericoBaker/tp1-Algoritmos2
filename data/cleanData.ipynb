{
 "cells": [
  {
   "cell_type": "markdown",
   "metadata": {},
   "source": [
    "# Preparação dos Datasets\n",
    "\n",
    "Aqui trataremos de:\n",
    "\n",
    "- Selecionar os datasets com os quais trabalharemos\n",
    "\n",
    "- Limpar dados\n",
    "\n",
    "- Reduzir a dimensionalidade dos dados para um espaço 2D (se necessário)\n",
    "\n",
    "- Reduzir a quantidade de rótulos dos nossos datasets para 2 rótulos (se necessário)"
   ]
  },
  {
   "cell_type": "markdown",
   "metadata": {},
   "source": [
    "## Criação das Funções de Limpeza, Redução e Plotagem"
   ]
  },
  {
   "cell_type": "markdown",
   "metadata": {},
   "source": [
    "Aqui, vamos criar as funções que usaremos para limpar os dados, reduzir eles para 2 dimensões e plotar eles de acordo com seus rótulos:"
   ]
  },
  {
   "cell_type": "markdown",
   "metadata": {},
   "source": [
    "### Limpeza"
   ]
  },
  {
   "cell_type": "markdown",
   "metadata": {},
   "source": [
    "Agora que importamos todos os nossos datasets, vamos criar uma função que faz a limpeza dos dados, que consistirá apenas em:\n",
    "\n",
    "- Eliminar dados duplicados\n",
    "- Eliminar dados null/None/NaN\n",
    "- Tranformar os Dados em um Pandas Dataframe\n",
    "\n",
    "OBS.: como veremos mais a frente, alguns dos nossos datasets precisarão de mais trabalho para limpeza, essa será apenas uma função de limpeza mais simples."
   ]
  },
  {
   "cell_type": "code",
   "execution_count": 1,
   "metadata": {},
   "outputs": [],
   "source": [
    "import pandas as pd\n",
    "\n",
    "def cleanData(data):\n",
    "    \n",
    "    dataframe = pd.DataFrame(data=data.data, columns=data.feature_names)\n",
    "    dataframe['target'] = data.target\n",
    "\n",
    "    dataframe = dataframe.dropna()\n",
    "    dataframe = dataframe.drop_duplicates()\n",
    "\n",
    "    return dataframe"
   ]
  },
  {
   "cell_type": "markdown",
   "metadata": {},
   "source": []
  }
 ],
 "metadata": {
  "kernelspec": {
   "display_name": "Python 3",
   "language": "python",
   "name": "python3"
  },
  "language_info": {
   "codemirror_mode": {
    "name": "ipython",
    "version": 3
   },
   "file_extension": ".py",
   "mimetype": "text/x-python",
   "name": "python",
   "nbconvert_exporter": "python",
   "pygments_lexer": "ipython3",
   "version": "3.11.4"
  }
 },
 "nbformat": 4,
 "nbformat_minor": 2
}
