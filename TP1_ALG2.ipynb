{
  "cells": [
    {
      "cell_type": "markdown",
      "metadata": {},
      "source": [
        "# **Trabalho Prático 1 - Geometria Computacional**\n",
        "\n",
        "\n",
        "### **Universidade Federal de Minas Gerais - Instituto de Ciências Exatas**\n",
        "\n",
        "#### Departamento de Ciência da Computação\n",
        "\n",
        "DCC207 - Algoritmos 2\n",
        "\n",
        "Prof. Renato Vimieiro\n",
        "\n",
        "\n",
        "  \n",
        "**Alunos:** Daniel Barbosa, Frederico Baker e Victor Prates"
      ]
    },
    {
      "cell_type": "markdown",
      "metadata": {},
      "source": [
        "O presente trabalho visa a aplicação de algoritmos de geometria computacional para solucionar um problema de classificação em aprendizado de máquina supervisionado. Em especial, o problema de classificação a ser abordado se refere à triagem de pacientes em um serviço de saúde. A meta é criar um modelo de classificação usando técnicas como envoltória convexa e detecção de interseções entre segmentos."
      ]
    },
    {
      "cell_type": "markdown",
      "metadata": {},
      "source": [
        "No diretório ./models foram implementadas estruturas para representar pontos e segmentos, além das seguintes operações:\n",
        "* Determinar a orientação relativa de dois segmentos\n",
        "* Determinar se um ponto está sobre um segmento\n",
        "* Determinar se dois segmentos se interceptam"
      ]
    },
    {
      "cell_type": "code",
      "execution_count": 4,
      "metadata": {},
      "outputs": [],
      "source": [
        "from models.models import Point\n",
        "from models.models import Segment"
      ]
    },
    {
      "cell_type": "markdown",
      "metadata": {},
      "source": [
        "# 1. Envoltória convexa"
      ]
    },
    {
      "cell_type": "markdown",
      "metadata": {},
      "source": [
        "# 2. Varredura linear"
      ]
    },
    {
      "cell_type": "markdown",
      "metadata": {},
      "source": [
        "Aqui, vamos implementar um algoritmo que verifica se algum segment de uma envoltória A intercepta algum segmento de uma envoltória B.\n",
        "\n",
        "Se há pelo o menos uma interceptação (ou seja, os dados não são linearmente separáveis), o algoritmo deve retornar que não é possível criar um modelo linear para tal conjunto de dados.\n",
        "\n",
        "Se não há interceptação (ou seja, os dados são linearmente separáveis), o algoritmo deve retornar o modelo linear para tal conjunto de dados."
      ]
    },
    {
      "cell_type": "markdown",
      "metadata": {},
      "source": [
        "Primeiro, vamos tratar de um caso específico:\n",
        "\n",
        "- Todos os segmentos de uma envoltória convexa se intersectam. Por isso, o algoritmo que impementaremos desconsiderará interseções que ocorrem exatamente na extremidade de um segmento com a extremidade de outro segmento.\n",
        "    \n",
        "    - Isso não atrapalhará na separabilidade das envoltórias, pois, se uma extremidade de envoltória intercepta uma extremidade da outra envoltória, essa extremidade em comum das envoltórias será exatamente o ponto pelo qual a separação linear passará\n",
        "    \n",
        "    - Assim, garantiremos que não haverão interseções entre segmentos de uma mesma envoltória\n",
        "\n",
        "Embaixo vemos a implementação desse algorimto que verifica se dois segmentos intersectam em quaisquer pontos que não sejam suas extremidades:"
      ]
    },
    {
      "cell_type": "code",
      "execution_count": 5,
      "metadata": {},
      "outputs": [],
      "source": [
        "def intersectSegments(seg1, seg2):\n",
        "    # If the segments share an endpoint, they don't \"intersect\" \n",
        "    if (seg1.origin == seg2.origin) or (seg1.origin == seg2.destination) or \\\n",
        "       (seg1.destination == seg2.origin) or (seg1.destination == seg2.destination):\n",
        "        return False\n",
        "    \n",
        "    return seg1.segmentIntersect(seg2)"
      ]
    },
    {
      "cell_type": "markdown",
      "metadata": {},
      "source": [
        "Agora, vamos escrever alguns testes para esse código:"
      ]
    },
    {
      "cell_type": "code",
      "execution_count": 6,
      "metadata": {},
      "outputs": [
        {
          "name": "stdout",
          "output_type": "stream",
          "text": [
            "All test cases passed!\n"
          ]
        }
      ],
      "source": [
        "def test_intersectSegments():\n",
        "    # Test Case 1: Segments that don't intersect\n",
        "    seg1 = Segment(Point(0,0), Point(1,1))\n",
        "    seg2 = Segment(Point(2,2), Point(3,3))\n",
        "    assert not intersectSegments(seg1, seg2), \"Test Case 1 Failed\"\n",
        "    \n",
        "    # Test Case 2: Segments that intersect\n",
        "    seg1 = Segment(Point(0,0), Point(2,2))\n",
        "    seg2 = Segment(Point(2,0), Point(0,2))\n",
        "    assert intersectSegments(seg1, seg2), \"Test Case 2 Failed\"\n",
        "    \n",
        "    # Test Case 3: Segments that share an endpoint but don't \"intersect\"\n",
        "    seg1 = Segment(Point(0,0), Point(2,2))\n",
        "    seg2 = Segment(Point(2,2), Point(4,4))\n",
        "    assert not intersectSegments(seg1, seg2), \"Test Case 3 Failed\"\n",
        "    \n",
        "    # Test Case 4: Segments that are colinear but don't overlap\n",
        "    seg1 = Segment(Point(0,0), Point(2,2))\n",
        "    seg2 = Segment(Point(3,3), Point(4,4))\n",
        "    assert not intersectSegments(seg1, seg2), \"Test Case 4 Failed\"\n",
        "    \n",
        "    # Test Case 5: Segments that are colinear and overlap\n",
        "    seg1 = Segment(Point(0,0), Point(3,3))\n",
        "    seg2 = Segment(Point(2,2), Point(4,4))\n",
        "    assert intersectSegments(seg1, seg2), \"Test Case 5 Failed\"\n",
        "\n",
        "    # Test Case 6: Vertical segments that don't intersect\n",
        "    seg1 = Segment(Point(0, 0), Point(0, 2))\n",
        "    seg2 = Segment(Point(0, 3), Point(0, 5))\n",
        "    assert not intersectSegments(seg1, seg2), \"Test Case 6 Failed\"\n",
        "    \n",
        "    # Test Case 7: Vertical segments that do intersect\n",
        "    seg1 = Segment(Point(0, 0), Point(0, 3))\n",
        "    seg2 = Segment(Point(0, 2), Point(0, 4))\n",
        "    assert intersectSegments(seg1, seg2), \"Test Case 7 Failed\"\n",
        "\n",
        "    print(\"All test cases passed!\")\n",
        "    \n",
        "test_intersectSegments()\n"
      ]
    },
    {
      "cell_type": "markdown",
      "metadata": {},
      "source": [
        "Notes to self:\n",
        "\n",
        "- lembrar de verificar os casos de exceção do algoritmo de varredura linear:\n",
        "    - Três segmentos não se interceptam em um único ponto\n",
        "    - Não há segmentos puramente verticais"
      ]
    },
    {
      "cell_type": "code",
      "execution_count": null,
      "metadata": {},
      "outputs": [],
      "source": []
    },
    {
      "cell_type": "markdown",
      "metadata": {},
      "source": [
        "# 3. Verificação de separabilidade"
      ]
    },
    {
      "cell_type": "markdown",
      "metadata": {},
      "source": [
        "# 4. Construção do modelo e classificador"
      ]
    },
    {
      "cell_type": "markdown",
      "metadata": {},
      "source": [
        "# 5. Método para computação das métricas"
      ]
    },
    {
      "cell_type": "markdown",
      "metadata": {},
      "source": [
        "# 6. Conclusão dos experimentos"
      ]
    },
    {
      "cell_type": "markdown",
      "metadata": {},
      "source": [
        "# 7. Conclusão do relatório"
      ]
    }
  ],
  "metadata": {
    "colab": {
      "provenance": []
    },
    "kernelspec": {
      "display_name": "Python 3",
      "name": "python3"
    },
    "language_info": {
      "codemirror_mode": {
        "name": "ipython",
        "version": 3
      },
      "file_extension": ".py",
      "mimetype": "text/x-python",
      "name": "python",
      "nbconvert_exporter": "python",
      "pygments_lexer": "ipython3",
      "version": "3.11.4"
    }
  },
  "nbformat": 4,
  "nbformat_minor": 0
}
