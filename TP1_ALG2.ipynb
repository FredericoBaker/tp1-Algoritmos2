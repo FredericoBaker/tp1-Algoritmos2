{
  "cells": [
    {
      "cell_type": "markdown",
      "metadata": {},
      "source": [
        "# **Trabalho Prático 1 - Geometria Computacional**\n",
        "\n",
        "\n",
        "### **Universidade Federal de Minas Gerais - Instituto de Ciências Exatas**\n",
        "\n",
        "#### Departamento de Ciência da Computação\n",
        "\n",
        "DCC207 - Algoritmos 2\n",
        "\n",
        "Prof. Renato Vimieiro\n",
        "\n",
        "\n",
        "  \n",
        "**Alunos:** Daniel Barbosa, Frederico Baker e Victor Prates"
      ]
    },
    {
      "cell_type": "markdown",
      "metadata": {},
      "source": [
        "O presente trabalho visa a aplicação de algoritmos de geometria computacional para solucionar um problema de classificação em aprendizado de máquina supervisionado. Em especial, o problema de classificação a ser abordado se refere à triagem de pacientes em um serviço de saúde. A meta é criar um modelo de classificação usando técnicas como envoltória convexa e detecção de interseções entre segmentos."
      ]
    },
    {
      "cell_type": "markdown",
      "metadata": {},
      "source": [
        "No diretório ./models foram implementadas estruturas para representar pontos e segmentos, além das seguintes operações:\n",
        "* Determinar a orientação relativa de dois segmentos\n",
        "* Determinar se um ponto está sobre um segmento\n",
        "* Determinar se dois segmentos se interceptam"
      ]
    },
    {
      "cell_type": "code",
      "execution_count": null,
      "metadata": {},
      "outputs": [],
      "source": [
        "from models.models import Point\n",
        "from models.models import Segment"
      ]
    },
    {
      "cell_type": "markdown",
      "metadata": {},
      "source": [
        "# 1. Envoltória convexa"
      ]
    },
    {
      "cell_type": "markdown",
      "metadata": {},
      "source": [
        "# 2. Varredura linear"
      ]
    },
    {
      "cell_type": "markdown",
      "metadata": {},
      "source": [
        "Aqui, vamos implementar um algoritmo que verifica se algum segment de uma envoltória A intercepta algum segmento de uma envoltória B.\n",
        "\n",
        "Se há pelo o menos uma interceptação (ou seja, os dados não são linearmente separáveis), o algoritmo deve retornar que não é possível criar um modelo linear para tal conjunto de dados.\n",
        "\n",
        "Se não há interceptação (ou seja, os dados são linearmente separáveis), o algoritmo deve retornar o modelo linear para tal conjunto de dados."
      ]
    },
    {
      "cell_type": "code",
      "execution_count": null,
      "metadata": {},
      "outputs": [],
      "source": []
    },
    {
      "cell_type": "markdown",
      "metadata": {},
      "source": [
        "# 3. Verificação de separabilidade"
      ]
    },
    {
      "cell_type": "markdown",
      "metadata": {},
      "source": [
        "# 4. Construção do modelo e classificador"
      ]
    },
    {
      "cell_type": "markdown",
      "metadata": {},
      "source": [
        "# 5. Método para computação das métricas"
      ]
    },
    {
      "cell_type": "markdown",
      "metadata": {},
      "source": [
        "# 6. Conclusão dos experimentos"
      ]
    },
    {
      "cell_type": "markdown",
      "metadata": {},
      "source": [
        "# 7. Conclusão do relatório"
      ]
    }
  ],
  "metadata": {
    "colab": {
      "provenance": []
    },
    "kernelspec": {
      "display_name": "Python 3",
      "name": "python3"
    },
    "language_info": {
      "name": "python",
      "version": "3.11.5"
    }
  },
  "nbformat": 4,
  "nbformat_minor": 0
}
