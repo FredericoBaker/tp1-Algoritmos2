{
  "cells": [
    {
      "cell_type": "markdown",
      "metadata": {},
      "source": [
        "# **Trabalho Prático 1 - Geometria Computacional**\n",
        "\n",
        "\n",
        "### **Universidade Federal de Minas Gerais - Instituto de Ciências Exatas**\n",
        "\n",
        "#### Departamento de Ciência da Computação\n",
        "\n",
        "DCC207 - Algoritmos 2\n",
        "\n",
        "Prof. Renato Vimieiro\n",
        "\n",
        "\n",
        "  \n",
        "**Alunos:** Daniel Barbosa, Frederico Baker e Victor Prates"
      ]
    },
    {
      "cell_type": "markdown",
      "metadata": {},
      "source": [
        "O presente trabalho visa a aplicação de algoritmos de geometria computacional para solucionar um problema de classificação em aprendizado de máquina supervisionado. Em especial, o problema de classificação a ser abordado se refere à triagem de pacientes em um serviço de saúde. A meta é criar um modelo de classificação usando técnicas como envoltória convexa e detecção de interseções entre segmentos."
      ]
    },
    {
      "cell_type": "markdown",
      "metadata": {},
      "source": [
        "# 1. Envoltória convexa"
      ]
    },
    {
      "cell_type": "markdown",
      "metadata": {},
      "source": [
        "# 2. Varredura linear"
      ]
    },
    {
      "cell_type": "markdown",
      "metadata": {},
      "source": [
        "# 3. Verificação de separabilidade"
      ]
    },
    {
      "cell_type": "markdown",
      "metadata": {},
      "source": [
        "# 4. Construção do modelo e classificador"
      ]
    },
    {
      "cell_type": "markdown",
      "metadata": {},
      "source": [
        "# 5. Método para computação das métricas"
      ]
    },
    {
      "cell_type": "markdown",
      "metadata": {},
      "source": [
        "# 6. Conclusão dos experimentos"
      ]
    },
    {
      "cell_type": "markdown",
      "metadata": {},
      "source": [
        "# 7. Conclusão do relatório"
      ]
    },
    {
      "cell_type": "markdown",
      "metadata": {
        "id": "FoWbQUXONWKJ"
      },
      "source": [
        "## Implementando Primitivas"
      ]
    },
    {
      "cell_type": "markdown",
      "metadata": {
        "id": "mrNu8iDuLAns"
      },
      "source": [
        "Primeiro, vamos implementar um classe Point para modelarmos os nossos data points no espaço 2D:"
      ]
    },
    {
      "cell_type": "code",
      "execution_count": null,
      "metadata": {
        "id": "_xv-I5xbFze7"
      },
      "outputs": [],
      "source": [
        "class Point:\n",
        "\n",
        "  def __init__(self, x, y):\n",
        "    self.x = x\n",
        "    self.y = y"
      ]
    },
    {
      "cell_type": "markdown",
      "metadata": {
        "id": "jN1EK6MHMflh"
      },
      "source": [
        "Agora implementaremos uma classe Segment para modelarmos os segmentos de reta entre nossos data points no espaço 2D:"
      ]
    },
    {
      "cell_type": "code",
      "execution_count": null,
      "metadata": {
        "id": "oNiNjszNLs6a"
      },
      "outputs": [],
      "source": [
        "class Segment:\n",
        "\n",
        "   def __init__(self, orig, dest):\n",
        "    self.orig = orig\n",
        "    self.dest = dest"
      ]
    },
    {
      "cell_type": "markdown",
      "metadata": {
        "id": "uM2ipOaYPmxQ"
      },
      "source": [
        "Agora vamos implementar uma função que calcula o produto vetorial de dois vetores com mesma origem, ou seja, que calcula a orientação de um primeiro vetor em relação a um segundo vetor (horária ou anti-horária):"
      ]
    },
    {
      "cell_type": "code",
      "execution_count": null,
      "metadata": {
        "id": "ZlWrytVTPvfV"
      },
      "outputs": [],
      "source": [
        "\"\"\"\n",
        "calculates the orientation\n",
        "(clockwise/counter-clockwise)\n",
        "of a vector A in relation to a vector B\n",
        "\"\"\"\n",
        "def vectProd(vectA, vectB):\n",
        "  return vectA.x * vectB.y - vectA.y * vectB.x\n",
        "\n",
        "\"\"\"\n",
        "calculates the orientation\n",
        "(clockwise/counter-clockwise)\n",
        "of a segment A in relation to a\n",
        "segment B that has the same\n",
        "origin as segment A, but ends at a point B\n",
        "\"\"\"\n",
        "def orientation(segmentA, pointB):\n",
        "\n",
        "  vectA = Point(segmentA.dest.x - segmentA.orig.x, segmentA.dest.y - segmentA.orig.y)\n",
        "  vectB = Point(pointB.x - segmentA.orig.x, pointB.y - segmentA.orig.y)\n",
        "\n",
        "  return vectProd(vectA, vectB)\n"
      ]
    },
    {
      "cell_type": "markdown",
      "metadata": {
        "id": "uMnCvfKjBbyZ"
      },
      "source": [
        "Aqui, vamos escrever uma função que testará se nosso código que calcula a orientação (horária ou anti-horária) de dois vetores com mesma origem produz as saídas corretas dado determinadas entradas"
      ]
    },
    {
      "cell_type": "code",
      "execution_count": null,
      "metadata": {
        "colab": {
          "base_uri": "https://localhost:8080/"
        },
        "id": "1z3bRLG7CJnq",
        "outputId": "9984a9ee-5bd6-46db-c0ce-865e094c5675"
      },
      "outputs": [
        {
          "name": "stdout",
          "output_type": "stream",
          "text": [
            "All Tests Passed!\n"
          ]
        }
      ],
      "source": [
        "def test_orientation():\n",
        "\n",
        "    # Test 1: If p0p1 is oriented clockwise in relation to p0p2\n",
        "    p0 = Point(0, 0)\n",
        "    p1 = Point(1, 1)\n",
        "    p2 = Point(1, 2)\n",
        "    seg1 = Segment(p0, p1)\n",
        "    assert orientation(seg1, p2) > 0, \"Test 1 Failed\"\n",
        "\n",
        "    # Test 2: If p0p1 is oriented counter-clockwise in relation to p0p3\n",
        "    p3 = Point(2, 0)\n",
        "    assert orientation(seg1, p3) < 0, \"Test 2 Failed\"\n",
        "\n",
        "    # Test 3: If p0p1 is colinear to p0p4\n",
        "    p4 = Point(2, 2)\n",
        "    assert orientation(seg1, p4) == 0, \"Test 3 Failed\"\n",
        "\n",
        "    # Test 4: If p5p6 is colinear to p5p7 (all points y axis)\n",
        "    p5 = Point(0, 0)\n",
        "    p6 = Point(0, 1)\n",
        "    seg2 = Segment(p5, p6)\n",
        "    p7 = Point(0, 2)\n",
        "    assert orientation(seg2, p7) == 0, \"Test 4 Failed\"\n",
        "\n",
        "    # Test 5: If p8p9 is colinear to p8p10 (all points x axis)\n",
        "    p8 = Point(0, 0)\n",
        "    p9 = Point(1, 0)\n",
        "    seg3 = Segment(p8, p9)\n",
        "    p10 = Point(2, 0)\n",
        "    assert orientation(seg3, p10) == 0, \"Test 5 Failed\"\n",
        "\n",
        "    # Test 6: If p11p12 is oriented counter-clockwise in relation to p11p13 (all negative coordinates)\n",
        "    p11 = Point(-2, -2)\n",
        "    p12 = Point(-3, -3)\n",
        "    seg4 = Segment(p11, p12)\n",
        "    p13 = Point(-4, -2)\n",
        "    assert orientation(seg4, p13) < 0, \"Test 6 Failed\"\n",
        "\n",
        "    print(\"All Tests Passed!\")\n",
        "\n",
        "test_orientation()\n"
      ]
    },
    {
      "cell_type": "markdown",
      "metadata": {
        "id": "TWAHy3ykbol5"
      },
      "source": [
        "Agora, vamos implementar uma função que verifica se, dado um ponto e um segmento, o ponto está contido dentro dos intervalos de x e de y do segmento"
      ]
    },
    {
      "cell_type": "code",
      "execution_count": null,
      "metadata": {
        "id": "csFg4mJgcvSs"
      },
      "outputs": [],
      "source": [
        "def pointOnSegment(segment, point):\n",
        "\n",
        "  pointInXInterval = point.x >= min(segment.orig.x, segment.dest.x) and point.x <= max(segment.orig.x, segment.dest.x)\n",
        "  pointInYInterval = point.y >= min(segment.orig.y, segment.dest.y) and point.y <= max(segment.orig.y, segment.dest.y)\n",
        "\n",
        "  if pointInXInterval and pointInYInterval:\n",
        "    return True\n",
        "\n",
        "  return False\n"
      ]
    },
    {
      "cell_type": "markdown",
      "metadata": {
        "id": "6H6_5UN0AfnO"
      },
      "source": [
        "Aqui, vamos escrever uma função que testará se nosso código que verifica se um ponto está contido dentro dos intervalos de x e de y de um segmento produz as saídas corretas dado determinadas entradas"
      ]
    },
    {
      "cell_type": "code",
      "execution_count": null,
      "metadata": {
        "colab": {
          "base_uri": "https://localhost:8080/"
        },
        "id": "Wsue43ztA2cm",
        "outputId": "1ae9b141-5d20-47ca-bbf9-4a4a6fad81ce"
      },
      "outputs": [
        {
          "name": "stdout",
          "output_type": "stream",
          "text": [
            "All Tests Passed!\n"
          ]
        }
      ],
      "source": [
        "def testPointOnSegment():\n",
        "\n",
        "    # Test 1: Point on the segment\n",
        "    p0 = Point(1, 1)\n",
        "    p1 = Point(2, 2)\n",
        "    seg1 = Segment(p0, p1)\n",
        "    assert pointOnSegment(seg1, p1) == True, \"Test 1 Failed\"\n",
        "\n",
        "    # Test 2: Point off the segment but on the line extended from the segment\n",
        "    p2 = Point(3, 3)\n",
        "    assert pointOnSegment(seg1, p2) == False, \"Test 2 Failed\"\n",
        "\n",
        "    # Test 3: Point outside the line formed by the segment\n",
        "    p3 = Point(2, 3)\n",
        "    assert pointOnSegment(seg1, p3) == False, \"Test 3 Failed\"\n",
        "\n",
        "    # Test 4: Point exactly at the start of the segment\n",
        "    assert pointOnSegment(seg1, p0) == True, \"Test 4 Failed\"\n",
        "\n",
        "    # Test 5: Point inside the segment, but not at start or end\n",
        "    p4 = Point(1.5, 1.5)\n",
        "    assert pointOnSegment(seg1, p4) == True, \"Test 5 Failed\"\n",
        "\n",
        "    # Test 6: Point lying on the vertical segment\n",
        "    p5 = Point(2, 0)\n",
        "    p6 = Point(2, 3)\n",
        "    p7 = Point(2, 1.5)\n",
        "    seg2 = Segment(p5, p6)\n",
        "    assert pointOnSegment(seg2, p7) == True, \"Test 6 Failed\"\n",
        "\n",
        "    print(\"All Tests Passed!\")\n",
        "\n",
        "testPointOnSegment()\n"
      ]
    },
    {
      "cell_type": "markdown",
      "metadata": {
        "id": "ZTaa8XvXVE3c"
      },
      "source": [
        "#Algoritmo de Interseção de Segmentos"
      ]
    },
    {
      "cell_type": "markdown",
      "metadata": {
        "id": "stxwqE7gVRHt"
      },
      "source": [
        "Aqui implementaremos um algoritmo que verifica se dois segmentos se interceptam:"
      ]
    },
    {
      "cell_type": "code",
      "execution_count": null,
      "metadata": {
        "id": "6S7Fy63sVexC"
      },
      "outputs": [],
      "source": [
        "def segmentIntersect(segmentA, segmentB):\n",
        "\n",
        "  d1 = orientation(segmentB, segmentA.orig)\n",
        "  d2 = orientation(segmentB, segmentA.dest)\n",
        "  d3 = orientation(segmentA, segmentB.orig)\n",
        "  d4 = orientation(segmentA, segmentB.dest)\n",
        "\n",
        "  print(d1, d2, d3, d4)\n",
        "\n",
        "  if ((d1 > 0 and d2 < 0) or (d1 < 0 and d2 > 0)) and ((d3 > 0 and d4 < 0) or (d3 < 0 and d4 > 0)):\n",
        "    return True\n",
        "  elif d1 == 0 and pointOnSegment(segmentB, segmentA.orig):\n",
        "    return True\n",
        "  elif d2 == 0 and pointOnSegment(segmentB, segmentA.dest):\n",
        "    return True\n",
        "  elif d3 == 0 and pointOnSegment(segmentA, segmentB.orig):\n",
        "    return True\n",
        "  elif d4 == 0 and pointOnSegment(segmentA, segmentB.dest):\n",
        "    return True\n",
        "  else:\n",
        "    return False\n"
      ]
    },
    {
      "cell_type": "code",
      "execution_count": null,
      "metadata": {
        "colab": {
          "base_uri": "https://localhost:8080/"
        },
        "id": "zBJd8I2-_mXF",
        "outputId": "f8264e23-0d89-4b73-f17d-8a06b5fddd04"
      },
      "outputs": [
        {
          "name": "stdout",
          "output_type": "stream",
          "text": [
            "-0.5 0.0 0 -0.5\n",
            "1.0 -0.0 0.0 1.0\n",
            "0.0 0.0 0.0 0.0\n",
            "0.0 0.0 0.0 0.0\n",
            "-0.5 0.5 1.0 0.0\n",
            "-2 -2 2 2\n",
            "2 0 0 2\n",
            "All Tests Passed!\n"
          ]
        }
      ],
      "source": [
        "def testSegmentIntersect():\n",
        "    # Test 1: Segments that intersect\n",
        "    p0 = Point(1, 1)\n",
        "    p1 = Point(2, 2)\n",
        "    p2 = Point(3, 2.5)\n",
        "    seg1 = Segment(p0, p1)\n",
        "    seg2 = Segment(p1, p2)\n",
        "    assert segmentIntersect(seg1, seg2) == True, \"Test 1 Failed\"\n",
        "\n",
        "    # Test 2: Segments that intersect\n",
        "    p1 = Point(1, 1.5)\n",
        "    p2 = Point(3, 1.5)\n",
        "    p3 = Point(2, 2)\n",
        "    p4 = Point(2, 1)\n",
        "    seg1 = Segment(p1, p2)\n",
        "    seg2 = Segment(p2, p3)\n",
        "    assert segmentIntersect(seg1, seg2) == True, \"Test 2 Failed\"\n",
        "\n",
        "    # Test 3: Segments that don't intersect (colinear)\n",
        "    p1 = Point(1, 1.5)\n",
        "    p2 = Point(3, 1.5)\n",
        "    p3 = Point(4, 1.5)\n",
        "    p4 = Point(5, 1.5)\n",
        "    seg1 = Segment(p1, p2)\n",
        "    seg2 = Segment(p3, p4)\n",
        "    assert segmentIntersect(seg1, seg2) == False, \"Test 3 Failed\"\n",
        "\n",
        "    # Test 4: Segments that intersect (colinear)\n",
        "    p1 = Point(1, 1.5)\n",
        "    p2 = Point(3, 1.5)\n",
        "    p3 = Point(2, 1.5)\n",
        "    p4 = Point(5, 1.5)\n",
        "    seg1 = Segment(p1, p2)\n",
        "    seg2 = Segment(p3, p4)\n",
        "    assert segmentIntersect(seg1, seg2) == True, \"Test 4 Failed\"\n",
        "\n",
        "    # Test 5: Segments that intersect on one point, perpendicular to each other (forming a right angle)\n",
        "    p1 = Point(1, 1.5)\n",
        "    p2 = Point(3, 1.5)\n",
        "    p3 = Point(2, 2)\n",
        "    p4 = Point(2, 1.5)\n",
        "    seg1 = Segment(p1, p2)\n",
        "    seg2 = Segment(p3, p4)\n",
        "    assert segmentIntersect(seg1, seg2) == True, \"Test 5 Failed\"\n",
        "\n",
        "    # Test 6: Segments that don't intersect, parallel to each other\n",
        "    p1 = Point(1, 1)\n",
        "    p2 = Point(3, 1)\n",
        "    p3 = Point(1, 2)\n",
        "    p4 = Point(3, 2)\n",
        "    seg1 = Segment(p1, p2)\n",
        "    seg2 = Segment(p3, p4)\n",
        "    assert segmentIntersect(seg1, seg2) == False, \"Test 6 Failed\"\n",
        "\n",
        "    # Test 7: Segments that intersect at one end\n",
        "    p1 = Point(1, 1)\n",
        "    p2 = Point(3, 1)\n",
        "    p3 = Point(3, 1)\n",
        "    p4 = Point(3, 2)\n",
        "    seg1 = Segment(p1, p2)\n",
        "    seg2 = Segment(p3, p4)\n",
        "    assert segmentIntersect(seg1, seg2) == True, \"Test 7 Failed\"\n",
        "\n",
        "    print(\"All Tests Passed!\")\n",
        "\n",
        "testSegmentIntersect()\n"
      ]
    },
    {
      "cell_type": "markdown",
      "metadata": {
        "id": "2N_sh-5KNpzy"
      },
      "source": [
        "#Algoritmo de Envoltória Convexa"
      ]
    },
    {
      "cell_type": "markdown",
      "metadata": {
        "id": "MpDlmKYfF0Sj"
      },
      "source": [
        "#Algoritmo de Varredura Linear\n",
        "\n",
        "Nessa parte do trabalho implementaremos um algoritmo de varredura linear."
      ]
    }
  ],
  "metadata": {
    "colab": {
      "provenance": []
    },
    "kernelspec": {
      "display_name": "Python 3",
      "name": "python3"
    },
    "language_info": {
      "name": "python"
    }
  },
  "nbformat": 4,
  "nbformat_minor": 0
}
