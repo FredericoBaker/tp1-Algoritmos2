{
  "cells": [
    {
      "cell_type": "markdown",
      "metadata": {},
      "source": [
        "# **Trabalho Prático 1 - Geometria Computacional**\n",
        "\n",
        "\n",
        "### **Universidade Federal de Minas Gerais - Instituto de Ciências Exatas**\n",
        "\n",
        "#### Departamento de Ciência da Computação\n",
        "\n",
        "DCC207 - Algoritmos 2\n",
        "\n",
        "Prof. Renato Vimieiro\n",
        "\n",
        "\n",
        "  \n",
        "**Alunos:** Daniel Barbosa, Frederico Baker e Victor Prates"
      ]
    },
    {
      "cell_type": "markdown",
      "metadata": {},
      "source": [
        "O presente trabalho visa a aplicação de algoritmos de geometria computacional para solucionar um problema de classificação em aprendizado de máquina supervisionado. Em especial, o problema de classificação a ser abordado se refere à triagem de pacientes em um serviço de saúde. A meta é criar um modelo de classificação usando técnicas como envoltória convexa e detecção de interseções entre segmentos."
      ]
    },
    {
      "cell_type": "markdown",
      "metadata": {},
      "source": [
        "No diretório ./models foram implementadas estruturas para representar pontos e segmentos, além das seguintes operações:\n",
        "* Determinar a orientação relativa de dois segmentos\n",
        "* Determinar se um ponto está sobre um segmento\n",
        "* Determinar se dois segmentos se interceptam"
      ]
    },
    {
      "cell_type": "code",
      "execution_count": 34,
      "metadata": {},
      "outputs": [],
      "source": [
        "from models.models import Point\n",
        "from models.models import Segment"
      ]
    },
    {
      "cell_type": "markdown",
      "metadata": {},
      "source": [
        "# 1. Envoltória convexa"
      ]
    },
    {
      "cell_type": "markdown",
      "metadata": {},
      "source": [
        "# 2. Varredura linear"
      ]
    },
    {
      "cell_type": "markdown",
      "metadata": {},
      "source": [
        "Aqui, vamos implementar um algoritmo que verifica se algum segment de uma envoltória A intercepta algum segmento de uma envoltória B.\n",
        "\n",
        "Se há pelo o menos uma interceptação (ou seja, os dados não são linearmente separáveis), o algoritmo deve retornar que não é possível criar um modelo linear para tal conjunto de dados.\n",
        "\n",
        "Se não há interceptação (ou seja, os dados são linearmente separáveis), o algoritmo deve retornar o modelo linear para tal conjunto de dados."
      ]
    },
    {
      "cell_type": "markdown",
      "metadata": {},
      "source": [
        "Primeiro, vamos tratar de um caso específico:\n",
        "\n",
        "- Todos os segmentos de uma envoltória convexa se intersectam. Por isso, o algoritmo que impementaremos desconsiderará interseções que ocorrem exatamente na extremidade de um segmento com a extremidade de outro segmento.\n",
        "    \n",
        "    - Isso não atrapalhará na separabilidade das envoltórias, pois, se uma extremidade de envoltória intercepta uma extremidade da outra envoltória, essa extremidade em comum das envoltórias será exatamente o ponto pelo qual a separação linear passará\n",
        "    \n",
        "    - Assim, garantiremos que não haverão interseções entre segmentos de uma mesma envoltória\n",
        "\n",
        "Embaixo vemos a implementação desse algorimto que verifica se dois segmentos intersectam em quaisquer pontos que não sejam suas extremidades:"
      ]
    },
    {
      "cell_type": "code",
      "execution_count": 35,
      "metadata": {},
      "outputs": [],
      "source": [
        "def intersectSegments(seg1, seg2):\n",
        "    # If the segments share an endpoint, they don't \"intersect\" \n",
        "    if (seg1.origin == seg2.origin) or (seg1.origin == seg2.destination) or \\\n",
        "       (seg1.destination == seg2.origin) or (seg1.destination == seg2.destination):\n",
        "        return False\n",
        "    \n",
        "    return seg1.segmentIntersect(seg2)"
      ]
    },
    {
      "cell_type": "markdown",
      "metadata": {},
      "source": [
        "Agora, vamos escrever alguns testes para esse código:"
      ]
    },
    {
      "cell_type": "code",
      "execution_count": 36,
      "metadata": {},
      "outputs": [
        {
          "name": "stdout",
          "output_type": "stream",
          "text": [
            "All test cases passed!\n"
          ]
        }
      ],
      "source": [
        "def test_intersectSegments():\n",
        "    # Test Case 1: Segments that don't intersect\n",
        "    seg1 = Segment(Point(0,0), Point(1,1))\n",
        "    seg2 = Segment(Point(2,2), Point(3,3))\n",
        "    assert not intersectSegments(seg1, seg2), \"Test Case 1 Failed\"\n",
        "    \n",
        "    # Test Case 2: Segments that intersect\n",
        "    seg1 = Segment(Point(0,0), Point(2,2))\n",
        "    seg2 = Segment(Point(2,0), Point(0,2))\n",
        "    assert intersectSegments(seg1, seg2), \"Test Case 2 Failed\"\n",
        "    \n",
        "    # Test Case 3: Segments that share an endpoint but don't \"intersect\"\n",
        "    seg1 = Segment(Point(0,0), Point(2,2))\n",
        "    seg2 = Segment(Point(2,2), Point(4,4))\n",
        "    assert not intersectSegments(seg1, seg2), \"Test Case 3 Failed\"\n",
        "    \n",
        "    # Test Case 4: Segments that are colinear but don't overlap\n",
        "    seg1 = Segment(Point(0,0), Point(2,2))\n",
        "    seg2 = Segment(Point(3,3), Point(4,4))\n",
        "    assert not intersectSegments(seg1, seg2), \"Test Case 4 Failed\"\n",
        "    \n",
        "    # Test Case 5: Segments that are colinear and overlap\n",
        "    seg1 = Segment(Point(0,0), Point(3,3))\n",
        "    seg2 = Segment(Point(2,2), Point(4,4))\n",
        "    assert intersectSegments(seg1, seg2), \"Test Case 5 Failed\"\n",
        "\n",
        "    # Test Case 6: Vertical segments that don't intersect\n",
        "    seg1 = Segment(Point(0, 0), Point(0, 2))\n",
        "    seg2 = Segment(Point(0, 3), Point(0, 5))\n",
        "    assert not intersectSegments(seg1, seg2), \"Test Case 6 Failed\"\n",
        "    \n",
        "    # Test Case 7: Vertical segments that do intersect\n",
        "    seg1 = Segment(Point(0, 0), Point(0, 3))\n",
        "    seg2 = Segment(Point(0, 2), Point(0, 4))\n",
        "    assert intersectSegments(seg1, seg2), \"Test Case 7 Failed\"\n",
        "\n",
        "    print(\"All test cases passed!\")\n",
        "    \n",
        "test_intersectSegments()\n"
      ]
    },
    {
      "cell_type": "markdown",
      "metadata": {},
      "source": [
        "Dado isso, o próximo passo será implementar o algoritmo de varredura linear em si com essa definição atualizada de interseção de segmentos."
      ]
    },
    {
      "cell_type": "markdown",
      "metadata": {},
      "source": [
        "Primeiro, vale ressaltar que fizemos uma mudança no algoritmo para tratar de segmentos verticais. Para esses casos, implementamos uma função que desverticaliza um segment vertical infinitezimalmente."
      ]
    },
    {
      "cell_type": "code",
      "execution_count": 37,
      "metadata": {},
      "outputs": [],
      "source": [
        "def unverticalize(segment):\n",
        "    \n",
        "    if segment.origin.x == segment.destination.x:\n",
        "        return Segment(segment.destination, Point(segment.origin.x + 1e-9, segment.origin.y))\n",
        "    \n",
        "    return segment"
      ]
    },
    {
      "cell_type": "markdown",
      "metadata": {},
      "source": [
        "Também criamos uma classe para representar os pontos que são considerados eventos para facilitar compreensão e sobrecarregamos seus operadores de comparação para podermos ordená-los"
      ]
    },
    {
      "cell_type": "code",
      "execution_count": 38,
      "metadata": {},
      "outputs": [],
      "source": [
        "class EventPoint:\n",
        "    \n",
        "    def __init__(self, point, segment, isLeft):\n",
        "        \n",
        "        self.point = point\n",
        "        self.segment = segment\n",
        "        self.isLeft = isLeft\n",
        "\n",
        "    def __lt__(self, other):\n",
        "\n",
        "        # The event point with lowest x-coordinate\n",
        "        # is the lesser event point\n",
        "        if self.point.x != other.point.x:\n",
        "            return self.point.x < other.point.x\n",
        "        \n",
        "        # If two event points have the same x-coordinate,\n",
        "        # the event point with lowest y-coordinate is\n",
        "        # the lesser event point\n",
        "        if self.point.y != other.point.y:\n",
        "            return self.point.y < other.point.y\n",
        "        \n",
        "        # When two event points coincide and one is a left \n",
        "        # endpoint while the other is a right endpoint, the right \n",
        "        # endpoint is the lesser event point\n",
        "        return not self.isLeft and other.isLeft"
      ]
    },
    {
      "cell_type": "markdown",
      "metadata": {},
      "source": [
        "Aqui, criamos alguns testes para verificarmos a sobrecarga do operador de comparação"
      ]
    },
    {
      "cell_type": "code",
      "execution_count": 39,
      "metadata": {},
      "outputs": [
        {
          "name": "stdout",
          "output_type": "stream",
          "text": [
            "All tests passed!\n"
          ]
        }
      ],
      "source": [
        "def test_event_point_lt():\n",
        "\n",
        "    # Test x-coordinate priority\n",
        "    ep1 = EventPoint(Point(1, 2), None, True)\n",
        "    ep2 = EventPoint(Point(2, 2), None, True)\n",
        "    assert ep1 < ep2, \"Test 1 failed!\"\n",
        "    \n",
        "    # Test y-coordinate priority\n",
        "    ep3 = EventPoint(Point(2, 2), None, True)\n",
        "    ep4 = EventPoint(Point(2, 3), None, True)\n",
        "    assert ep3 < ep4, \"Test 2 failed!\"\n",
        "    \n",
        "    # Test endpoint type priority\n",
        "    ep5 = EventPoint(Point(2, 2), None, True)\n",
        "    ep6 = EventPoint(Point(2, 2), None, False)\n",
        "    assert ep6 < ep5, \"Test 3 failed!\"\n",
        "\n",
        "    # Test with equal x, y, and endpoint type\n",
        "    ep7 = EventPoint(Point(2, 2), None, True)\n",
        "    ep8 = EventPoint(Point(2, 2), None, True)\n",
        "    assert not (ep7 < ep8), \"Test 4 failed!\"\n",
        "\n",
        "    print(\"All tests passed!\")\n",
        "\n",
        "test_event_point_lt()\n"
      ]
    },
    {
      "cell_type": "markdown",
      "metadata": {},
      "source": [
        "Usamos a estrutura de dados \"sortedList\" da biblioteca sortedContainers para armazenar os segmentos sendo analisados durante a execução do algoritmo. Escolhemos essa estrutura pois:\n",
        "\n",
        "- Atende aos requisitos de complexidade:\n",
        "    - Inserção e Remoção em O(log n)\n",
        "    - Descobrir o sucessor de um segmento conforme a relação de ordem em O(log n)\n",
        "    - Descobrir o antecessor de um segmento conforme a relação de ordem em O(log n)\n",
        "- Ampla utilização\n",
        "- Mantida atual\n",
        "- Bem documentada\n",
        "- Otimizado para lidar com grandes volumes de dados\n",
        "\n",
        "Portanto, segue abaixo o código de varredura linear:"
      ]
    },
    {
      "cell_type": "code",
      "execution_count": 40,
      "metadata": {},
      "outputs": [],
      "source": [
        "from sortedcontainers import SortedList\n",
        "\n",
        "def anySegmentIntersect(convexHull1, convexHull2):\n",
        "    \n",
        "    allSegments = convexHull1 + convexHull2\n",
        "\n",
        "    # Create a list of event points\n",
        "    eventPoints = []\n",
        "\n",
        "    for segment in allSegments:\n",
        "\n",
        "        unverticalize(segment)\n",
        "        \n",
        "        # Adds the leftmost point of the \n",
        "        # segment as an event point\n",
        "        eventPoints.append(EventPoint(segment.leftmostPoint(), segment, True))\n",
        "        \n",
        "        # Adds the rightmost point of the\n",
        "        # segment as an event point\n",
        "        if segment.origin == segment.leftmostPoint():\n",
        "            eventPoints.append(EventPoint(segment.destination, segment, False))\n",
        "        else:\n",
        "            eventPoints.append(EventPoint(segment.origin, segment, False))\n",
        "\n",
        "    # Sort event points in O(nlogn) time\n",
        "    eventPoints.sort()\n",
        "\n",
        "    # Create a list of active segments\n",
        "    # that inserts, removes and searches\n",
        "    # in O(logn) time\n",
        "    activeSegments = SortedList()\n",
        "\n",
        "    for event in eventPoints:\n",
        "        \n",
        "        if event.isLeft:  # if it's a left endpoint\n",
        "            \n",
        "            activeSegments.add(event.segment)\n",
        "            \n",
        "            # Gets the current index of the \n",
        "            # current segment in O(logn) time\n",
        "            idx = activeSegments.index(event.segment)\n",
        "\n",
        "            # Finds the segment above \n",
        "            # (sucessor) in O(log n) time\n",
        "            segmentAbove = activeSegments[idx + 1] if idx + 1 < len(activeSegments) else None\n",
        "\n",
        "            # Finds the segment below \n",
        "            # (predecessor) in O(log n) time\n",
        "            segmentBelow = activeSegments[idx - 1] if idx - 1 >= 0 else None\n",
        "\n",
        "            # Returns true if the segment above\n",
        "            # or the segment below intersect the\n",
        "            # current segment\n",
        "            if segmentAbove and intersectSegments(segmentAbove, event.segment):\n",
        "                return True\n",
        "            \n",
        "            if segmentBelow and intersectSegments(segmentBelow, event.segment):\n",
        "                return True\n",
        "            \n",
        "        else:  # if it's a right endpoint\n",
        "            \n",
        "            # Gets the current index of the \n",
        "            # current segment in O(logn) time\n",
        "            idx = activeSegments.index(event.segment)\n",
        "\n",
        "            # Finds the segment above \n",
        "            # (sucessor) in O(log n) time\n",
        "            segmentAbove = activeSegments[idx + 1] if idx + 1 < len(activeSegments) else None\n",
        "\n",
        "            # Finds the segment below \n",
        "            # (predecessor) in O(log n) time\n",
        "            segmentBelow = activeSegments[idx - 1] if idx - 1 >= 0 else None\n",
        "\n",
        "            # Returns true if the segment above\n",
        "            # and the segment below intersect each other\n",
        "            if segmentAbove and segmentBelow and intersectSegments(segmentAbove, segmentBelow):\n",
        "                return True\n",
        "\n",
        "            activeSegments.remove(event.segment)\n",
        "\n",
        "    return False"
      ]
    },
    {
      "cell_type": "markdown",
      "metadata": {},
      "source": [
        "Aqui vamos criar alguns tests para verificar o nosso algoritmo:"
      ]
    },
    {
      "cell_type": "code",
      "execution_count": 46,
      "metadata": {},
      "outputs": [
        {
          "name": "stdout",
          "output_type": "stream",
          "text": [
            "Test 3 failed\n",
            "Test 4 failed\n"
          ]
        }
      ],
      "source": [
        "def testAnySegmentsIntersect():\n",
        "    \n",
        "    # Test 1: Two squares that don't intersect\n",
        "    segments1 = [\n",
        "        Segment(Point(0, 0), Point(4, 0)),\n",
        "        Segment(Point(4, 0), Point(4, 4)),\n",
        "        Segment(Point(4, 4), Point(0, 4)),\n",
        "        Segment(Point(0, 4), Point(0, 0))\n",
        "    ]\n",
        "\n",
        "    segments2 = [\n",
        "        Segment(Point(5, 5), Point(9, 5)),\n",
        "        Segment(Point(9, 5), Point(9, 9)),\n",
        "        Segment(Point(9, 9), Point(5, 9)),\n",
        "        Segment(Point(5, 9), Point(5, 5))\n",
        "    ]\n",
        "\n",
        "    if anySegmentIntersect(segments1, segments2):\n",
        "        print(\"Test 1 failed\")\n",
        "\n",
        "\n",
        "    # Test 2: Two overlapping squares\n",
        "    segments3 = [\n",
        "        Segment(Point(2, 2), Point(6, 2)),\n",
        "        Segment(Point(6, 2), Point(6, 6)),\n",
        "        Segment(Point(6, 6), Point(2, 6)),\n",
        "        Segment(Point(2, 6), Point(2, 2))\n",
        "    ]\n",
        "\n",
        "    if not anySegmentIntersect(segments1, segments3):\n",
        "        print(\"Test 2 failed\")\n",
        "\n",
        "\n",
        "    # Test 3: One square inside another\n",
        "    segments4 = [\n",
        "        Segment(Point(1, 1), Point(3, 1)),\n",
        "        Segment(Point(3, 1), Point(3, 3)),\n",
        "        Segment(Point(3, 3), Point(1, 3)),\n",
        "        Segment(Point(1, 3), Point(1, 1))\n",
        "    ]\n",
        "\n",
        "    if not anySegmentIntersect(segments1, segments4):\n",
        "        print(\"Test 3 failed\")\n",
        "\n",
        "\n",
        "    # Test 4: Triangle and square that intersect at a vertex\n",
        "\n",
        "    segments9 = [\n",
        "    Segment(Point(2, 2), Point(4, 2)),\n",
        "    Segment(Point(4, 2), Point(3, 0)),\n",
        "    Segment(Point(3, 0), Point(2, 2))\n",
        "    ]\n",
        "\n",
        "    segments10 = [\n",
        "        Segment(Point(3, 0), Point(5, 0)),\n",
        "        Segment(Point(5, 0), Point(5, 2)),\n",
        "        Segment(Point(5, 2), Point(3, 2)),\n",
        "        Segment(Point(3, 2), Point(3, 0))\n",
        "    ]\n",
        "\n",
        "    if not anySegmentIntersect(segments9, segments10):\n",
        "        print(\"Test 4 failed\")\n",
        "\n",
        "\n",
        "    # Test 5: Pentagon and triangle that don't intersect\n",
        "    segments11 = [\n",
        "    Segment(Point(6, 6), Point(8, 6)),\n",
        "    Segment(Point(8, 6), Point(9, 8)),\n",
        "    Segment(Point(9, 8), Point(7, 10)),\n",
        "    Segment(Point(7, 10), Point(5, 8)),\n",
        "    Segment(Point(5, 8), Point(6, 6))\n",
        "    ]\n",
        "\n",
        "    segments12 = [\n",
        "        Segment(Point(1, 1), Point(3, 1)),\n",
        "        Segment(Point(3, 1), Point(2, 3)),\n",
        "        Segment(Point(2, 3), Point(1, 1))\n",
        "    ]\n",
        "\n",
        "    if anySegmentIntersect(segments11, segments12):\n",
        "        print(\"Test 5 failed\")\n",
        "\n",
        "\n",
        "testAnySegmentsIntersect()"
      ]
    },
    {
      "cell_type": "markdown",
      "metadata": {},
      "source": [
        "Veja que o test 4, que é o teste referente a um triangulo que possui um vértice que intercepta o mesmo véritice de um quadrado, falhou mesmo as duas envoltórias se interceptando.\n",
        "\n",
        "Porém, como havíamos dito anteriormente, isso é exatamente o comportamento que desejávamos pois:\n",
        "\n",
        "- O vértice onde ocorre a interceptação é extremidade de dois segmentos da mesma envoltória. Não é o caso desse teste mas iríamos querer ignorar essa interceptação de qualquer forma.\n",
        "\n",
        "- O vértice onde ocorre a interceptação é extremidade de dois segmentos de diferentes envoltórias. Esse é o caso aqui e não tem problema ignorá-lo pois quando gerarmos a separação linear desses dados, a reta passará exatamente sobre esse ponto"
      ]
    },
    {
      "cell_type": "markdown",
      "metadata": {},
      "source": [
        "Por outro lado, o teste 3, que é o teste referente a uma envoltória contida dentro da outra falhou. Realmente as envoltórias não se interceptam, porém, elas não serão separáveis. Portanto, devemos criar uma nova função que, além de verificar se duas envoltórias se interceptam, também verifica se uma está contida dentro da outra, o que faremos a seguir."
      ]
    },
    {
      "cell_type": "markdown",
      "metadata": {},
      "source": [
        "Aqui, criamos alguns testes para nosso algoritmo de varredura linear:"
      ]
    },
    {
      "cell_type": "markdown",
      "metadata": {},
      "source": [
        "Notes to self:\n",
        "\n",
        "- lembrar de verificar os casos de exceção do algoritmo de varredura linear:\n",
        "    - Três segmentos não se interceptam em um único ponto\n",
        "    - Não há segmentos puramente verticais"
      ]
    },
    {
      "cell_type": "markdown",
      "metadata": {},
      "source": [
        "# 3. Verificação de separabilidade"
      ]
    },
    {
      "cell_type": "markdown",
      "metadata": {},
      "source": [
        "# 4. Construção do modelo e classificador"
      ]
    },
    {
      "cell_type": "markdown",
      "metadata": {},
      "source": [
        "# 5. Método para computação das métricas"
      ]
    },
    {
      "cell_type": "markdown",
      "metadata": {},
      "source": [
        "# 6. Conclusão dos experimentos"
      ]
    },
    {
      "cell_type": "markdown",
      "metadata": {},
      "source": [
        "# 7. Conclusão do relatório"
      ]
    }
  ],
  "metadata": {
    "colab": {
      "provenance": []
    },
    "kernelspec": {
      "display_name": "Python 3",
      "name": "python3"
    },
    "language_info": {
      "codemirror_mode": {
        "name": "ipython",
        "version": 3
      },
      "file_extension": ".py",
      "mimetype": "text/x-python",
      "name": "python",
      "nbconvert_exporter": "python",
      "pygments_lexer": "ipython3",
      "version": "3.11.4"
    }
  },
  "nbformat": 4,
  "nbformat_minor": 0
}
